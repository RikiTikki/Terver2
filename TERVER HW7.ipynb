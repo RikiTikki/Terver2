{
 "cells": [
  {
   "cell_type": "code",
   "execution_count": 3,
   "metadata": {},
   "outputs": [],
   "source": [
    "import numpy as np"
   ]
  },
  {
   "cell_type": "markdown",
   "metadata": {},
   "source": [
    "1. Даны значения величины заработной платы заемщиков банка (zp) и значения их поведенческого кредитного скоринга (ks): zp = [35, 45, 190, 200, 40, 70, 54, 150, 120, 110], ks = [401, 574, 874, 919, 459, 739, 653, 902, 746, 832]. Используя математические операции, посчитать коэффициенты линейной регрессии, приняв за X заработную плату (то есть, zp - признак), а за y - значения скорингового балла (то есть, ks - целевая переменная). Произвести расчет как с использованием intercept, так и без."
   ]
  },
  {
   "cell_type": "markdown",
   "metadata": {},
   "source": [
    "Без intercept"
   ]
  },
  {
   "cell_type": "code",
   "execution_count": 4,
   "metadata": {},
   "outputs": [],
   "source": [
    "zp = np.array([35, 45, 190, 200, 40, 70, 54, 150, 120, 110])\n",
    "ks = np.array([401, 574, 874, 919, 459, 739, 653, 902, 746, 832])"
   ]
  },
  {
   "cell_type": "code",
   "execution_count": 5,
   "metadata": {},
   "outputs": [
    {
     "data": {
      "text/plain": [
       "2.620538882402765"
      ]
     },
     "execution_count": 5,
     "metadata": {},
     "output_type": "execute_result"
    }
   ],
   "source": [
    "b = ((zp * ks).mean() - zp.mean() * ks.mean()) / ((zp ** 2).mean() - (zp.mean() ** 2))\n",
    "b"
   ]
  },
  {
   "cell_type": "code",
   "execution_count": 6,
   "metadata": {},
   "outputs": [
    {
     "data": {
      "text/plain": [
       "444.1773573243596"
      ]
     },
     "execution_count": 6,
     "metadata": {},
     "output_type": "execute_result"
    }
   ],
   "source": [
    "a = ks.mean() - b * zp.mean()\n",
    "a"
   ]
  },
  {
   "cell_type": "code",
   "execution_count": 7,
   "metadata": {},
   "outputs": [
    {
     "data": {
      "text/plain": [
       "6470.414201176659"
      ]
     },
     "execution_count": 7,
     "metadata": {},
     "output_type": "execute_result"
    }
   ],
   "source": [
    "mse_ = np.sum(((a + b * zp) - ks) ** 2 / 10)\n",
    "mse_"
   ]
  },
  {
   "cell_type": "markdown",
   "metadata": {},
   "source": [
    "С intercept"
   ]
  },
  {
   "cell_type": "code",
   "execution_count": 8,
   "metadata": {},
   "outputs": [
    {
     "data": {
      "text/plain": [
       "array([[  1.,   1.,   1.,   1.,   1.,   1.,   1.,   1.,   1.,   1.],\n",
       "       [ 35.,  45., 190., 200.,  40.,  70.,  54., 150., 120., 110.]])"
      ]
     },
     "execution_count": 8,
     "metadata": {},
     "output_type": "execute_result"
    }
   ],
   "source": [
    "zp = np.vstack([np.ones((1, 10)), zp])\n",
    "zp"
   ]
  },
  {
   "cell_type": "code",
   "execution_count": 9,
   "metadata": {},
   "outputs": [
    {
     "data": {
      "text/plain": [
       "array([444.17735732,   2.62053888])"
      ]
     },
     "execution_count": 9,
     "metadata": {},
     "output_type": "execute_result"
    }
   ],
   "source": [
    "np.dot(np.dot(np.linalg.inv(np.dot(zp, zp.T)), zp), ks.T)"
   ]
  },
  {
   "cell_type": "markdown",
   "metadata": {},
   "source": [
    "2. Посчитать коэффициент линейной регрессии при заработной плате (zp), используя градиентный спуск (без intercept)."
   ]
  },
  {
   "cell_type": "code",
   "execution_count": 11,
   "metadata": {},
   "outputs": [],
   "source": [
    "zp = np.array([35, 45, 190, 200, 40, 70, 54, 150, 120, 110])\n",
    "ks = np.array([401, 574, 874, 919, 459, 739, 653, 902, 746, 832])"
   ]
  },
  {
   "cell_type": "code",
   "execution_count": 12,
   "metadata": {},
   "outputs": [],
   "source": [
    "alpha = 1e-6\n",
    "w1 = 0.1"
   ]
  },
  {
   "cell_type": "code",
   "execution_count": 13,
   "metadata": {},
   "outputs": [],
   "source": [
    "def mse_(w1, y, X, n=10):\n",
    "    return np.sum((w1 * X - y) ** 2) / n"
   ]
  },
  {
   "cell_type": "code",
   "execution_count": 17,
   "metadata": {},
   "outputs": [
    {
     "name": "stdout",
     "output_type": "stream",
     "text": [
      "iteration: 0, w1 : 5.889820420132673, mse: 56516.85841571943\n",
      "iteration: 100, w1 : 5.889820420132673, mse: 56516.85841571943\n",
      "iteration: 200, w1 : 5.889820420132673, mse: 56516.85841571943\n",
      "iteration: 300, w1 : 5.889820420132673, mse: 56516.85841571943\n",
      "iteration: 400, w1 : 5.889820420132673, mse: 56516.85841571943\n",
      "iteration: 500, w1 : 5.889820420132673, mse: 56516.85841571943\n",
      "iteration: 600, w1 : 5.889820420132673, mse: 56516.85841571943\n",
      "iteration: 700, w1 : 5.889820420132673, mse: 56516.85841571943\n",
      "iteration: 800, w1 : 5.889820420132673, mse: 56516.85841571943\n",
      "iteration: 900, w1 : 5.889820420132673, mse: 56516.85841571943\n",
      "iteration: 1000, w1 : 5.889820420132673, mse: 56516.85841571943\n",
      "iteration: 1100, w1 : 5.889820420132673, mse: 56516.85841571943\n",
      "iteration: 1200, w1 : 5.889820420132673, mse: 56516.85841571943\n",
      "iteration: 1300, w1 : 5.889820420132673, mse: 56516.85841571943\n",
      "iteration: 1400, w1 : 5.889820420132673, mse: 56516.85841571943\n",
      "iteration: 1500, w1 : 5.889820420132673, mse: 56516.85841571943\n",
      "iteration: 1600, w1 : 5.889820420132673, mse: 56516.85841571943\n",
      "iteration: 1700, w1 : 5.889820420132673, mse: 56516.85841571943\n",
      "iteration: 1800, w1 : 5.889820420132673, mse: 56516.85841571943\n",
      "iteration: 1900, w1 : 5.889820420132673, mse: 56516.85841571943\n",
      "iteration: 2000, w1 : 5.889820420132673, mse: 56516.85841571943\n",
      "iteration: 2100, w1 : 5.889820420132673, mse: 56516.85841571943\n",
      "iteration: 2200, w1 : 5.889820420132673, mse: 56516.85841571943\n",
      "iteration: 2300, w1 : 5.889820420132673, mse: 56516.85841571943\n",
      "iteration: 2400, w1 : 5.889820420132673, mse: 56516.85841571943\n",
      "iteration: 2500, w1 : 5.889820420132673, mse: 56516.85841571943\n",
      "iteration: 2600, w1 : 5.889820420132673, mse: 56516.85841571943\n",
      "iteration: 2700, w1 : 5.889820420132673, mse: 56516.85841571943\n",
      "iteration: 2800, w1 : 5.889820420132673, mse: 56516.85841571943\n",
      "iteration: 2900, w1 : 5.889820420132673, mse: 56516.85841571943\n",
      "iteration: 3000, w1 : 5.889820420132673, mse: 56516.85841571943\n",
      "iteration: 3100, w1 : 5.889820420132673, mse: 56516.85841571943\n",
      "iteration: 3200, w1 : 5.889820420132673, mse: 56516.85841571943\n",
      "iteration: 3300, w1 : 5.889820420132673, mse: 56516.85841571943\n",
      "iteration: 3400, w1 : 5.889820420132673, mse: 56516.85841571943\n",
      "iteration: 3500, w1 : 5.889820420132673, mse: 56516.85841571943\n",
      "iteration: 3600, w1 : 5.889820420132673, mse: 56516.85841571943\n",
      "iteration: 3700, w1 : 5.889820420132673, mse: 56516.85841571943\n",
      "iteration: 3800, w1 : 5.889820420132673, mse: 56516.85841571943\n",
      "iteration: 3900, w1 : 5.889820420132673, mse: 56516.85841571943\n",
      "iteration: 4000, w1 : 5.889820420132673, mse: 56516.85841571943\n",
      "iteration: 4100, w1 : 5.889820420132673, mse: 56516.85841571943\n",
      "iteration: 4200, w1 : 5.889820420132673, mse: 56516.85841571943\n",
      "iteration: 4300, w1 : 5.889820420132673, mse: 56516.85841571943\n",
      "iteration: 4400, w1 : 5.889820420132673, mse: 56516.85841571943\n",
      "iteration: 4500, w1 : 5.889820420132673, mse: 56516.85841571943\n",
      "iteration: 4600, w1 : 5.889820420132673, mse: 56516.85841571943\n",
      "iteration: 4700, w1 : 5.889820420132673, mse: 56516.85841571943\n",
      "iteration: 4800, w1 : 5.889820420132673, mse: 56516.85841571943\n",
      "iteration: 4900, w1 : 5.889820420132673, mse: 56516.85841571943\n",
      "iteration: 5000, w1 : 5.889820420132673, mse: 56516.85841571943\n",
      "iteration: 5100, w1 : 5.889820420132673, mse: 56516.85841571943\n",
      "iteration: 5200, w1 : 5.889820420132673, mse: 56516.85841571943\n",
      "iteration: 5300, w1 : 5.889820420132673, mse: 56516.85841571943\n",
      "iteration: 5400, w1 : 5.889820420132673, mse: 56516.85841571943\n",
      "iteration: 5500, w1 : 5.889820420132673, mse: 56516.85841571943\n",
      "iteration: 5600, w1 : 5.889820420132673, mse: 56516.85841571943\n",
      "iteration: 5700, w1 : 5.889820420132673, mse: 56516.85841571943\n",
      "iteration: 5800, w1 : 5.889820420132673, mse: 56516.85841571943\n",
      "iteration: 5900, w1 : 5.889820420132673, mse: 56516.85841571943\n",
      "iteration: 6000, w1 : 5.889820420132673, mse: 56516.85841571943\n",
      "iteration: 6100, w1 : 5.889820420132673, mse: 56516.85841571943\n",
      "iteration: 6200, w1 : 5.889820420132673, mse: 56516.85841571943\n",
      "iteration: 6300, w1 : 5.889820420132673, mse: 56516.85841571943\n",
      "iteration: 6400, w1 : 5.889820420132673, mse: 56516.85841571943\n",
      "iteration: 6500, w1 : 5.889820420132673, mse: 56516.85841571943\n",
      "iteration: 6600, w1 : 5.889820420132673, mse: 56516.85841571943\n",
      "iteration: 6700, w1 : 5.889820420132673, mse: 56516.85841571943\n",
      "iteration: 6800, w1 : 5.889820420132673, mse: 56516.85841571943\n",
      "iteration: 6900, w1 : 5.889820420132673, mse: 56516.85841571943\n",
      "iteration: 7000, w1 : 5.889820420132673, mse: 56516.85841571943\n",
      "iteration: 7100, w1 : 5.889820420132673, mse: 56516.85841571943\n",
      "iteration: 7200, w1 : 5.889820420132673, mse: 56516.85841571943\n",
      "iteration: 7300, w1 : 5.889820420132673, mse: 56516.85841571943\n",
      "iteration: 7400, w1 : 5.889820420132673, mse: 56516.85841571943\n",
      "iteration: 7500, w1 : 5.889820420132673, mse: 56516.85841571943\n",
      "iteration: 7600, w1 : 5.889820420132673, mse: 56516.85841571943\n",
      "iteration: 7700, w1 : 5.889820420132673, mse: 56516.85841571943\n",
      "iteration: 7800, w1 : 5.889820420132673, mse: 56516.85841571943\n",
      "iteration: 7900, w1 : 5.889820420132673, mse: 56516.85841571943\n",
      "iteration: 8000, w1 : 5.889820420132673, mse: 56516.85841571943\n",
      "iteration: 8100, w1 : 5.889820420132673, mse: 56516.85841571943\n",
      "iteration: 8200, w1 : 5.889820420132673, mse: 56516.85841571943\n",
      "iteration: 8300, w1 : 5.889820420132673, mse: 56516.85841571943\n",
      "iteration: 8400, w1 : 5.889820420132673, mse: 56516.85841571943\n",
      "iteration: 8500, w1 : 5.889820420132673, mse: 56516.85841571943\n",
      "iteration: 8600, w1 : 5.889820420132673, mse: 56516.85841571943\n",
      "iteration: 8700, w1 : 5.889820420132673, mse: 56516.85841571943\n",
      "iteration: 8800, w1 : 5.889820420132673, mse: 56516.85841571943\n",
      "iteration: 8900, w1 : 5.889820420132673, mse: 56516.85841571943\n",
      "iteration: 9000, w1 : 5.889820420132673, mse: 56516.85841571943\n",
      "iteration: 9100, w1 : 5.889820420132673, mse: 56516.85841571943\n",
      "iteration: 9200, w1 : 5.889820420132673, mse: 56516.85841571943\n",
      "iteration: 9300, w1 : 5.889820420132673, mse: 56516.85841571943\n",
      "iteration: 9400, w1 : 5.889820420132673, mse: 56516.85841571943\n",
      "iteration: 9500, w1 : 5.889820420132673, mse: 56516.85841571943\n",
      "iteration: 9600, w1 : 5.889820420132673, mse: 56516.85841571943\n",
      "iteration: 9700, w1 : 5.889820420132673, mse: 56516.85841571943\n",
      "iteration: 9800, w1 : 5.889820420132673, mse: 56516.85841571943\n",
      "iteration: 9900, w1 : 5.889820420132673, mse: 56516.85841571943\n",
      "iteration: 10000, w1 : 5.889820420132673, mse: 56516.85841571943\n"
     ]
    }
   ],
   "source": [
    "for i in range(10001):\n",
    "    fp = (1 / 10) * np.sum(2 * (w1 * zp - ks) * zp)\n",
    "    w1 -= alpha * fp\n",
    "    if i % 100 == 0:\n",
    "        print(f'iteration: {i}, w1 : {w1}, mse: {mse_(w1, ks,zp) }')"
   ]
  },
  {
   "cell_type": "code",
   "execution_count": null,
   "metadata": {},
   "outputs": [],
   "source": []
  }
 ],
 "metadata": {
  "kernelspec": {
   "display_name": "Python 3",
   "language": "python",
   "name": "python3"
  },
  "language_info": {
   "codemirror_mode": {
    "name": "ipython",
    "version": 3
   },
   "file_extension": ".py",
   "mimetype": "text/x-python",
   "name": "python",
   "nbconvert_exporter": "python",
   "pygments_lexer": "ipython3",
   "version": "3.8.5"
  }
 },
 "nbformat": 4,
 "nbformat_minor": 4
}
